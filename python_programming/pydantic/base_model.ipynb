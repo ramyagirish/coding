{
 "cells": [
  {
   "cell_type": "markdown",
   "id": "0ac6d4f6-8d55-4db8-83d9-616423b9de35",
   "metadata": {},
   "source": [
    "### Objective\n",
    "\n",
    "In this notebook we would explore the `base model` that is very important from the standpoint of defining the basic constructs of the `Pydantic Data Models`. The `Pydantic` library does the following:\n",
    "- Data Model: helps define the basic data attributes and their behavior, models are associated with web applications and AI models.\n",
    "- Advanced features: Type Check, Serialization and de-serialization of data\n",
    "- Fun fact: its used in FastAPI"
   ]
  },
  {
   "cell_type": "code",
   "execution_count": 1,
   "id": "446e2dd0-e5b3-48c4-9189-ac19e92f3e02",
   "metadata": {},
   "outputs": [],
   "source": [
    "from pydantic import BaseModel"
   ]
  },
  {
   "cell_type": "code",
   "execution_count": 2,
   "id": "c1fa82e6-3272-47f3-988e-31b71c390578",
   "metadata": {},
   "outputs": [],
   "source": [
    "class Person(BaseModel):\n",
    "    first_name: str\n",
    "    last_name: str\n",
    "    age: int"
   ]
  },
  {
   "cell_type": "code",
   "execution_count": 3,
   "id": "00478b9c-da8b-4633-8e05-109dda0a31f7",
   "metadata": {},
   "outputs": [],
   "source": [
    "p = Person(first_name=\"Issac\", last_name=\"Newton\", age=84)"
   ]
  },
  {
   "cell_type": "code",
   "execution_count": 4,
   "id": "016edafd-2769-4669-98a5-5948333c59b7",
   "metadata": {},
   "outputs": [
    {
     "data": {
      "text/plain": [
       "Person(first_name='Issac', last_name='Newton', age=84)"
      ]
     },
     "execution_count": 4,
     "metadata": {},
     "output_type": "execute_result"
    }
   ],
   "source": [
    "p"
   ]
  },
  {
   "cell_type": "markdown",
   "id": "e0a923ca-8fae-435a-9bfb-83d1a1fcdceb",
   "metadata": {},
   "source": [
    "Prior to `Pydantic` we had `Data Classes` and these were very strictly. In `Pydantic` we can still allow the instance to be defined with data types that can at least be converted to the original defined data type."
   ]
  },
  {
   "cell_type": "code",
   "execution_count": 6,
   "id": "9ec568be-717b-4fec-947a-660bcdf26191",
   "metadata": {},
   "outputs": [],
   "source": [
    "p = Person(first_name='100', last_name='200', age='30')"
   ]
  },
  {
   "cell_type": "code",
   "execution_count": 7,
   "id": "75057360-368f-4fb0-950d-d4eae9c7e92d",
   "metadata": {},
   "outputs": [
    {
     "data": {
      "text/plain": [
       "Person(first_name='100', last_name='200', age=30)"
      ]
     },
     "execution_count": 7,
     "metadata": {},
     "output_type": "execute_result"
    }
   ],
   "source": [
    "p"
   ]
  },
  {
   "cell_type": "code",
   "execution_count": 14,
   "id": "72993a7b-b375-4e2a-904b-f5bfe6ee7541",
   "metadata": {},
   "outputs": [],
   "source": [
    "p = Person(first_name='100', last_name='200', age=30.0)"
   ]
  },
  {
   "cell_type": "markdown",
   "id": "c86e1f30-4c6f-4ebb-8fbd-3e9bc7f5be46",
   "metadata": {},
   "source": [
    "In the new version of `Pydantic`, we cannot:\n",
    "- convert string type to int type or vice versa\n",
    "- convert float type with non zero decomal type to int type.\n",
    "\n",
    "One of the errors that encounter here is called `ValidationError`, which we could try and catch. Also by default the field are considered required of nothing is defined."
   ]
  },
  {
   "cell_type": "code",
   "execution_count": 16,
   "id": "aefa5dcd-477d-4712-a0d4-7ec1e3b5e552",
   "metadata": {},
   "outputs": [
    {
     "name": "stdout",
     "output_type": "stream",
     "text": [
      "2 validation errors for Person\n",
      "last_name\n",
      "  Field required [type=missing, input_value={'first_name': 'Johny'}, input_type=dict]\n",
      "    For further information visit https://errors.pydantic.dev/2.8/v/missing\n",
      "age\n",
      "  Field required [type=missing, input_value={'first_name': 'Johny'}, input_type=dict]\n",
      "    For further information visit https://errors.pydantic.dev/2.8/v/missing\n"
     ]
    }
   ],
   "source": [
    "try:\n",
    "    Person(first_name=\"Johny\")\n",
    "except Exception as ex:\n",
    "    print(ex)"
   ]
  },
  {
   "cell_type": "code",
   "execution_count": 17,
   "id": "fbcca6e4-3a03-41f8-8c1f-efbf06af5a49",
   "metadata": {},
   "outputs": [
    {
     "name": "stdout",
     "output_type": "stream",
     "text": [
      "2 validation errors for Person\n",
      "last_name\n",
      "  Field required [type=missing, input_value={'first_name': 'Johny'}, input_type=dict]\n",
      "    For further information visit https://errors.pydantic.dev/2.8/v/missing\n",
      "age\n",
      "  Field required [type=missing, input_value={'first_name': 'Johny'}, input_type=dict]\n",
      "    For further information visit https://errors.pydantic.dev/2.8/v/missing\n"
     ]
    }
   ],
   "source": [
    "from pydantic import ValidationError\n",
    "\n",
    "try:\n",
    "    Person(first_name=\"Johny\")\n",
    "except ValidationError as ex:\n",
    "    print(ex)"
   ]
  },
  {
   "cell_type": "code",
   "execution_count": 21,
   "id": "95b8ef65-b8c5-4122-8d83-0b350d594a42",
   "metadata": {},
   "outputs": [
    {
     "name": "stdout",
     "output_type": "stream",
     "text": [
      "('[{\"type\":\"missing\",\"loc\":[\"last_name\"],\"msg\":\"Field '\n",
      " 'required\",\"input\":{\"first_name\":\"Johny\"},\"url\":\"https://errors.pydantic.dev/2.8/v/missing\"},{\"type\":\"missing\",\"loc\":[\"age\"],\"msg\":\"Field '\n",
      " 'required\",\"input\":{\"first_name\":\"Johny\"},\"url\":\"https://errors.pydantic.dev/2.8/v/missing\"}]')\n"
     ]
    }
   ],
   "source": [
    "from pprint import pprint\n",
    "try:\n",
    "    Person(first_name=\"Johny\")\n",
    "except ValidationError as ex:\n",
    "    pprint(ex.json())"
   ]
  },
  {
   "cell_type": "markdown",
   "id": "ace5f53d-ab50-4f32-ac16-c6c29343ebec",
   "metadata": {},
   "source": [
    "We could make one of the  attributes `optional`. There are two ways of doing this."
   ]
  },
  {
   "cell_type": "code",
   "execution_count": 27,
   "id": "7366f70f-a320-40b2-b713-727ace7f73e0",
   "metadata": {},
   "outputs": [],
   "source": [
    "class Person(BaseModel):\n",
    "    first_name: str\n",
    "    last_name: str = \"\"\n",
    "    age: int = None"
   ]
  },
  {
   "cell_type": "code",
   "execution_count": 26,
   "id": "62679470-f6a9-4db3-8362-b2f089584590",
   "metadata": {},
   "outputs": [
    {
     "data": {
      "text/plain": [
       "Person(first_name='Issac', last_name='Newton', age=None)"
      ]
     },
     "execution_count": 26,
     "metadata": {},
     "output_type": "execute_result"
    }
   ],
   "source": [
    "Person(first_name=\"Issac\", last_name=\"Newton\")"
   ]
  },
  {
   "cell_type": "code",
   "execution_count": 28,
   "id": "d968a22c-88c1-440b-89f0-a6978ea0a7e0",
   "metadata": {},
   "outputs": [
    {
     "data": {
      "text/plain": [
       "Person(first_name='Issac', last_name='', age=None)"
      ]
     },
     "execution_count": 28,
     "metadata": {},
     "output_type": "execute_result"
    }
   ],
   "source": [
    "Person(first_name=\"Issac\")"
   ]
  },
  {
   "cell_type": "code",
   "execution_count": 33,
   "id": "59c923d2-0b23-454b-ab82-9bd3944abb5f",
   "metadata": {},
   "outputs": [],
   "source": [
    "from typing import Optional\n",
    "\n",
    "class Person(BaseModel):\n",
    "    first_name: str\n",
    "    last_name: Optional[str]\n",
    "    age: Optional[int] = None"
   ]
  },
  {
   "cell_type": "markdown",
   "id": "c1fbb861-157a-4611-b333-b82f0fc5069c",
   "metadata": {},
   "source": [
    "#### Serialization strategy\n",
    "\n",
    "**Note:** Convert `Person` pydantic class to a dictionary data type or `JSON` data type."
   ]
  },
  {
   "cell_type": "code",
   "execution_count": 34,
   "id": "f45b15c1-9832-4f4c-9f5a-c890c29efec7",
   "metadata": {},
   "outputs": [],
   "source": [
    "p = Person(first_name=\"Issac\", last_name=\"Newton\")"
   ]
  },
  {
   "cell_type": "code",
   "execution_count": 35,
   "id": "bf76e805-8e7c-460b-b9eb-c625c3e22435",
   "metadata": {},
   "outputs": [
    {
     "data": {
      "text/plain": [
       "{'first_name': 'Issac', 'last_name': 'Newton', 'age': None}"
      ]
     },
     "execution_count": 35,
     "metadata": {},
     "output_type": "execute_result"
    }
   ],
   "source": [
    "p.dict()"
   ]
  },
  {
   "cell_type": "code",
   "execution_count": 36,
   "id": "1dd5b3a5-ec77-4f72-a649-e75a44b13763",
   "metadata": {},
   "outputs": [
    {
     "data": {
      "text/plain": [
       "'{\"first_name\":\"Issac\",\"last_name\":\"Newton\",\"age\":null}'"
      ]
     },
     "execution_count": 36,
     "metadata": {},
     "output_type": "execute_result"
    }
   ],
   "source": [
    "p.json()"
   ]
  },
  {
   "cell_type": "code",
   "execution_count": 37,
   "id": "8428a37f-75bf-4ac3-8993-0d01569ae7c1",
   "metadata": {},
   "outputs": [
    {
     "data": {
      "text/plain": [
       "{'first_name': 'Issac', 'last_name': 'Newton'}"
      ]
     },
     "execution_count": 37,
     "metadata": {},
     "output_type": "execute_result"
    }
   ],
   "source": [
    "p.dict(exclude=['age'])"
   ]
  },
  {
   "cell_type": "code",
   "execution_count": 42,
   "id": "f28b2fa7-85c0-417c-bfc3-44efc6db7642",
   "metadata": {},
   "outputs": [
    {
     "name": "stdout",
     "output_type": "stream",
     "text": [
      "{\n",
      "    \"first_name\": \"Issac\",\n",
      "    \"last_name\": \"Newton\"\n",
      "}\n"
     ]
    }
   ],
   "source": [
    "print(p.model_dump_json(include=['first_name', 'last_name'], indent=4))"
   ]
  },
  {
   "cell_type": "markdown",
   "id": "fd24ae86-daad-40c7-903a-9454c25717fe",
   "metadata": {},
   "source": [
    "Earlier in `pydantic<v2`, we could easily pass indent to the arguments of `json` function now we cannot do that. However, we could use the function `model_dump_json`.\n",
    "\n",
    "When we pass `indent` in `json` function, we get the following error.\n",
    "\n",
    "```TypeError: `dumps_kwargs` keyword arguments are no longer supported.```"
   ]
  },
  {
   "cell_type": "markdown",
   "id": "85dc5a95-5564-4bc3-99c1-6f28ee946404",
   "metadata": {},
   "source": [
    "#### Deserialization strategy\n",
    "\n",
    "We could deserialize data in `Pydantic`. Here, the package simply tries to map the attributes to the closest data type."
   ]
  },
  {
   "cell_type": "code",
   "execution_count": 44,
   "id": "25468737-19e0-463d-9b13-c95a15da8274",
   "metadata": {},
   "outputs": [],
   "source": [
    "from datetime import date"
   ]
  },
  {
   "cell_type": "code",
   "execution_count": 45,
   "id": "f3502529-d860-4599-b540-67699ab30cc9",
   "metadata": {},
   "outputs": [],
   "source": [
    "class Person(BaseModel):\n",
    "    first_name: str\n",
    "    last_name: str\n",
    "    dob: date\n",
    "    bmi: float"
   ]
  },
  {
   "cell_type": "code",
   "execution_count": 51,
   "id": "31c3bb07-54de-4945-b286-659087a3ada9",
   "metadata": {},
   "outputs": [],
   "source": [
    "# dictionary with complex data-types\n",
    "data = {\n",
    "    \"first_name\":\"Issac\",\n",
    "    \"last_name\":\"Newton\", \n",
    "    \"dob\":date(1987,1,9),\n",
    "    \"bmi\":20.5\n",
    "}"
   ]
  },
  {
   "cell_type": "code",
   "execution_count": 52,
   "id": "caaef45e-d1ea-4267-bfc9-5a8af6e5a727",
   "metadata": {},
   "outputs": [],
   "source": [
    "p = Person.parse_obj(data)"
   ]
  },
  {
   "cell_type": "code",
   "execution_count": 53,
   "id": "b138fc22-b85f-41bb-812b-3124aec6efc2",
   "metadata": {},
   "outputs": [
    {
     "data": {
      "text/plain": [
       "Person(first_name='Issac', last_name='Newton', dob=datetime.date(1987, 1, 9), bmi=20.5)"
      ]
     },
     "execution_count": 53,
     "metadata": {},
     "output_type": "execute_result"
    }
   ],
   "source": [
    "p"
   ]
  },
  {
   "cell_type": "code",
   "execution_count": 54,
   "id": "3e95d678-ecdb-4272-8249-c5bed053cc5b",
   "metadata": {},
   "outputs": [],
   "source": [
    "data = {\n",
    "    \"first_name\":\"Issac\",\n",
    "    \"last_name\":\"Newton\", \n",
    "    \"dob\":date(1987,1,9),\n",
    "    \"bmi\":20\n",
    "}"
   ]
  },
  {
   "cell_type": "code",
   "execution_count": 55,
   "id": "0c90d538-1af4-4682-b7cd-81d573beac6b",
   "metadata": {},
   "outputs": [],
   "source": [
    "p = Person.parse_obj(data)"
   ]
  },
  {
   "cell_type": "code",
   "execution_count": 56,
   "id": "3340d4a6-eb45-466a-b58f-50777891b266",
   "metadata": {},
   "outputs": [
    {
     "data": {
      "text/plain": [
       "Person(first_name='Issac', last_name='Newton', dob=datetime.date(1987, 1, 9), bmi=20.0)"
      ]
     },
     "execution_count": 56,
     "metadata": {},
     "output_type": "execute_result"
    }
   ],
   "source": [
    "p"
   ]
  },
  {
   "cell_type": "code",
   "execution_count": 81,
   "id": "e1a1df24-ff7c-4ff6-8b5d-a01e3839a833",
   "metadata": {},
   "outputs": [],
   "source": [
    "data = {\n",
    "    \"first_name\":\"Issac\",\n",
    "    \"last_name\":\"Newton\", \n",
    "    \"dob\":\"1987-09-01\", # ISO date format yyyy-MM-dd \n",
    "    \"bmi\":20\n",
    "}"
   ]
  },
  {
   "cell_type": "code",
   "execution_count": 62,
   "id": "8a6f631c-73b4-4204-83fe-a83dc47d082a",
   "metadata": {},
   "outputs": [],
   "source": [
    "p = Person.parse_obj(data)"
   ]
  },
  {
   "cell_type": "code",
   "execution_count": 63,
   "id": "c524b86f-a5db-4c06-8e18-5635c3c4a542",
   "metadata": {},
   "outputs": [
    {
     "data": {
      "text/plain": [
       "Person(first_name='Issac', last_name='Newton', dob=datetime.date(1987, 9, 1), bmi=20.0)"
      ]
     },
     "execution_count": 63,
     "metadata": {},
     "output_type": "execute_result"
    }
   ],
   "source": [
    "p"
   ]
  },
  {
   "cell_type": "code",
   "execution_count": 66,
   "id": "4ea0143f-2265-47fe-838e-779ac8a79c82",
   "metadata": {},
   "outputs": [],
   "source": [
    "json = '''\n",
    "{\n",
    "    \"first_name\":\"Issac\",\n",
    "    \"last_name\":\"Newton\", \n",
    "    \"dob\":\"1987-09-01\",\n",
    "    \"bmi\":20\n",
    "}\n",
    "'''"
   ]
  },
  {
   "cell_type": "code",
   "execution_count": 67,
   "id": "3f70b83c-d008-42a6-bbdd-cafb5598ef8e",
   "metadata": {},
   "outputs": [],
   "source": [
    "p = Person.parse_raw(json)"
   ]
  },
  {
   "cell_type": "code",
   "execution_count": 68,
   "id": "45635e4e-b4b1-42b0-9f60-3150c517d70b",
   "metadata": {},
   "outputs": [
    {
     "data": {
      "text/plain": [
       "Person(first_name='Issac', last_name='Newton', dob=datetime.date(1987, 9, 1), bmi=20.0)"
      ]
     },
     "execution_count": 68,
     "metadata": {},
     "output_type": "execute_result"
    }
   ],
   "source": [
    "p"
   ]
  },
  {
   "cell_type": "markdown",
   "id": "47ad0995-8f96-4fa8-87df-daa11e430af0",
   "metadata": {},
   "source": [
    "In python, we use `snake-casing` but in JSON we use `camel-casing`. So, we use the `Field` module in `pydantic` that has `alias` attribute where we could allow this inter-operability."
   ]
  },
  {
   "cell_type": "code",
   "execution_count": 69,
   "id": "2d5f5e41-ee33-4219-b4d3-79f632dec5e6",
   "metadata": {},
   "outputs": [],
   "source": [
    "from pydantic import Field"
   ]
  },
  {
   "cell_type": "code",
   "execution_count": 82,
   "id": "05121d27-7fdd-4841-8c3a-4e6ddee28e40",
   "metadata": {},
   "outputs": [],
   "source": [
    "class Person(BaseModel):\n",
    "    first_name: str = Field(alias='firstName')\n",
    "    last_name: str = Field(alias='lastName')\n",
    "    dob: date = None\n",
    "    bmi: float = 0.0"
   ]
  },
  {
   "cell_type": "code",
   "execution_count": 83,
   "id": "dd13089b-b393-40d8-bc83-9cf838b5dd46",
   "metadata": {},
   "outputs": [
    {
     "data": {
      "text/plain": [
       "{'first_name': 'Issac', 'last_name': 'Newton', 'dob': '1987-09-01', 'bmi': 20}"
      ]
     },
     "execution_count": 83,
     "metadata": {},
     "output_type": "execute_result"
    }
   ],
   "source": [
    "data"
   ]
  },
  {
   "cell_type": "code",
   "execution_count": 84,
   "id": "db7fff98-0e76-483a-b794-d28232933b8f",
   "metadata": {},
   "outputs": [
    {
     "name": "stdout",
     "output_type": "stream",
     "text": [
      "[{\"type\":\"missing\",\"loc\":[\"firstName\"],\"msg\":\"Field required\",\"input\":{\"first_name\":\"Issac\",\"last_name\":\"Newton\",\"dob\":\"1987-09-01\",\"bmi\":20},\"url\":\"https://errors.pydantic.dev/2.8/v/missing\"},{\"type\":\"missing\",\"loc\":[\"lastName\"],\"msg\":\"Field required\",\"input\":{\"first_name\":\"Issac\",\"last_name\":\"Newton\",\"dob\":\"1987-09-01\",\"bmi\":20},\"url\":\"https://errors.pydantic.dev/2.8/v/missing\"}]\n"
     ]
    }
   ],
   "source": [
    "try:\n",
    "    Person.parse_obj(data)\n",
    "except ValidationError as ex:\n",
    "    print(ex.json())"
   ]
  },
  {
   "cell_type": "code",
   "execution_count": 85,
   "id": "7c267468-d324-4412-acdb-2ee3e7e1dfe4",
   "metadata": {},
   "outputs": [],
   "source": [
    "data = {\n",
    "    \"firstName\":\"Issac\",\n",
    "    \"lastName\":\"Newton\", \n",
    "    \"dob\":\"1987-09-01\", # ISO date format yyyy-MM-dd \n",
    "    \"bmi\":20\n",
    "}"
   ]
  },
  {
   "cell_type": "code",
   "execution_count": 86,
   "id": "de66de4e-f183-4bd4-ae39-0f7b9f316bd9",
   "metadata": {},
   "outputs": [],
   "source": [
    "try:\n",
    "    Person.parse_obj(data)\n",
    "except ValidationError as ex:\n",
    "    print(ex.json())"
   ]
  },
  {
   "cell_type": "code",
   "execution_count": 87,
   "id": "e6f1120a-6bfe-4839-b45d-121898506fc5",
   "metadata": {},
   "outputs": [
    {
     "data": {
      "text/plain": [
       "Person(first_name='Issac', last_name='Newton', dob=datetime.date(1987, 9, 1), bmi=20.0)"
      ]
     },
     "execution_count": 87,
     "metadata": {},
     "output_type": "execute_result"
    }
   ],
   "source": [
    "p = Person.parse_obj(data)\n",
    "p"
   ]
  },
  {
   "cell_type": "code",
   "execution_count": 88,
   "id": "862617e4-652f-4810-9ffa-dd2fa1d2407a",
   "metadata": {},
   "outputs": [
    {
     "data": {
      "text/plain": [
       "'{\"first_name\":\"Issac\",\"last_name\":\"Newton\",\"dob\":\"1987-09-01\",\"bmi\":20.0}'"
      ]
     },
     "execution_count": 88,
     "metadata": {},
     "output_type": "execute_result"
    }
   ],
   "source": [
    "p.json()"
   ]
  },
  {
   "cell_type": "markdown",
   "id": "3110bb3e-f955-4813-a4f6-d3843a04249a",
   "metadata": {},
   "source": [
    "Surprisingly enough, when we are converting the `JSON` or dictionary to `Pydantic` object, we need to use the`alias` argument in Field submodule. But when we serialize this o"
   ]
  }
 ],
 "metadata": {
  "kernelspec": {
   "display_name": "Python 3 (ipykernel)",
   "language": "python",
   "name": "python3"
  },
  "language_info": {
   "codemirror_mode": {
    "name": "ipython",
    "version": 3
   },
   "file_extension": ".py",
   "mimetype": "text/x-python",
   "name": "python",
   "nbconvert_exporter": "python",
   "pygments_lexer": "ipython3",
   "version": "3.12.4"
  }
 },
 "nbformat": 4,
 "nbformat_minor": 5
}
