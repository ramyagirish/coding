{
 "cells": [
  {
   "cell_type": "markdown",
   "id": "0ac6d4f6-8d55-4db8-83d9-616423b9de35",
   "metadata": {},
   "source": [
    "### Objective\n",
    "\n",
    "In this notebook we would explore the `base model` that is very important from the standpoint of defining the basic constructs of the `Pydantic Data Models`. The `Pydantic` library does the following:\n",
    "- Data Model: helps define the basic data attributes and their behavior, models are associated with web applications and AI models.\n",
    "- Advanced features: Type Check, Serialization and de-serialization of data\n",
    "- Fun fact: its used in FastAPI"
   ]
  },
  {
   "cell_type": "code",
   "execution_count": 1,
   "id": "446e2dd0-e5b3-48c4-9189-ac19e92f3e02",
   "metadata": {},
   "outputs": [],
   "source": [
    "from pydantic import BaseModel"
   ]
  },
  {
   "cell_type": "code",
   "execution_count": 2,
   "id": "c1fa82e6-3272-47f3-988e-31b71c390578",
   "metadata": {},
   "outputs": [],
   "source": [
    "class Person(BaseModel):\n",
    "    first_name: str\n",
    "    last_name: str\n",
    "    age: int"
   ]
  },
  {
   "cell_type": "code",
   "execution_count": 3,
   "id": "00478b9c-da8b-4633-8e05-109dda0a31f7",
   "metadata": {},
   "outputs": [],
   "source": [
    "p = Person(first_name=\"Issac\", last_name=\"Newton\", age=84)"
   ]
  },
  {
   "cell_type": "code",
   "execution_count": 4,
   "id": "016edafd-2769-4669-98a5-5948333c59b7",
   "metadata": {},
   "outputs": [
    {
     "data": {
      "text/plain": [
       "Person(first_name='Issac', last_name='Newton', age=84)"
      ]
     },
     "execution_count": 4,
     "metadata": {},
     "output_type": "execute_result"
    }
   ],
   "source": [
    "p"
   ]
  },
  {
   "cell_type": "markdown",
   "id": "e0a923ca-8fae-435a-9bfb-83d1a1fcdceb",
   "metadata": {},
   "source": [
    "Prior to `Pydantic` we had `Data Classes` and these were very strictly. In `Pydantic` we can still allow the instance to be defined with data types that can at least be converted to the original defined data type."
   ]
  },
  {
   "cell_type": "code",
   "execution_count": 6,
   "id": "9ec568be-717b-4fec-947a-660bcdf26191",
   "metadata": {},
   "outputs": [],
   "source": [
    "p = Person(first_name='100', last_name='200', age='30')"
   ]
  },
  {
   "cell_type": "code",
   "execution_count": 7,
   "id": "75057360-368f-4fb0-950d-d4eae9c7e92d",
   "metadata": {},
   "outputs": [
    {
     "data": {
      "text/plain": [
       "Person(first_name='100', last_name='200', age=30)"
      ]
     },
     "execution_count": 7,
     "metadata": {},
     "output_type": "execute_result"
    }
   ],
   "source": [
    "p"
   ]
  },
  {
   "cell_type": "code",
   "execution_count": 14,
   "id": "72993a7b-b375-4e2a-904b-f5bfe6ee7541",
   "metadata": {},
   "outputs": [],
   "source": [
    "p = Person(first_name='100', last_name='200', age=30.0)"
   ]
  },
  {
   "cell_type": "markdown",
   "id": "c86e1f30-4c6f-4ebb-8fbd-3e9bc7f5be46",
   "metadata": {},
   "source": [
    "In the new version of `Pydantic`, we cannot:\n",
    "- convert string type to int type or vice versa\n",
    "- convert float type with non zero decomal type to int type.\n",
    "\n",
    "One of the errors that encounter here is called `ValidationError`, which we could try and catch. Also by default the field are considered required of nothing is defined."
   ]
  },
  {
   "cell_type": "code",
   "execution_count": 16,
   "id": "aefa5dcd-477d-4712-a0d4-7ec1e3b5e552",
   "metadata": {},
   "outputs": [
    {
     "name": "stdout",
     "output_type": "stream",
     "text": [
      "2 validation errors for Person\n",
      "last_name\n",
      "  Field required [type=missing, input_value={'first_name': 'Johny'}, input_type=dict]\n",
      "    For further information visit https://errors.pydantic.dev/2.8/v/missing\n",
      "age\n",
      "  Field required [type=missing, input_value={'first_name': 'Johny'}, input_type=dict]\n",
      "    For further information visit https://errors.pydantic.dev/2.8/v/missing\n"
     ]
    }
   ],
   "source": [
    "try:\n",
    "    Person(first_name=\"Johny\")\n",
    "except Exception as ex:\n",
    "    print(ex)"
   ]
  },
  {
   "cell_type": "code",
   "execution_count": 17,
   "id": "fbcca6e4-3a03-41f8-8c1f-efbf06af5a49",
   "metadata": {},
   "outputs": [
    {
     "name": "stdout",
     "output_type": "stream",
     "text": [
      "2 validation errors for Person\n",
      "last_name\n",
      "  Field required [type=missing, input_value={'first_name': 'Johny'}, input_type=dict]\n",
      "    For further information visit https://errors.pydantic.dev/2.8/v/missing\n",
      "age\n",
      "  Field required [type=missing, input_value={'first_name': 'Johny'}, input_type=dict]\n",
      "    For further information visit https://errors.pydantic.dev/2.8/v/missing\n"
     ]
    }
   ],
   "source": [
    "from pydantic import ValidationError\n",
    "\n",
    "try:\n",
    "    Person(first_name=\"Johny\")\n",
    "except ValidationError as ex:\n",
    "    print(ex)"
   ]
  },
  {
   "cell_type": "code",
   "execution_count": 21,
   "id": "95b8ef65-b8c5-4122-8d83-0b350d594a42",
   "metadata": {},
   "outputs": [
    {
     "name": "stdout",
     "output_type": "stream",
     "text": [
      "('[{\"type\":\"missing\",\"loc\":[\"last_name\"],\"msg\":\"Field '\n",
      " 'required\",\"input\":{\"first_name\":\"Johny\"},\"url\":\"https://errors.pydantic.dev/2.8/v/missing\"},{\"type\":\"missing\",\"loc\":[\"age\"],\"msg\":\"Field '\n",
      " 'required\",\"input\":{\"first_name\":\"Johny\"},\"url\":\"https://errors.pydantic.dev/2.8/v/missing\"}]')\n"
     ]
    }
   ],
   "source": [
    "from pprint import pprint\n",
    "try:\n",
    "    Person(first_name=\"Johny\")\n",
    "except ValidationError as ex:\n",
    "    pprint(ex.json())"
   ]
  },
  {
   "cell_type": "markdown",
   "id": "ace5f53d-ab50-4f32-ac16-c6c29343ebec",
   "metadata": {},
   "source": [
    "We could make one of the  attributes `optional`. There are two ways of doing this."
   ]
  },
  {
   "cell_type": "code",
   "execution_count": 27,
   "id": "7366f70f-a320-40b2-b713-727ace7f73e0",
   "metadata": {},
   "outputs": [],
   "source": [
    "class Person(BaseModel):\n",
    "    first_name: str\n",
    "    last_name: str = \"\"\n",
    "    age: int = None"
   ]
  },
  {
   "cell_type": "code",
   "execution_count": 26,
   "id": "62679470-f6a9-4db3-8362-b2f089584590",
   "metadata": {},
   "outputs": [
    {
     "data": {
      "text/plain": [
       "Person(first_name='Issac', last_name='Newton', age=None)"
      ]
     },
     "execution_count": 26,
     "metadata": {},
     "output_type": "execute_result"
    }
   ],
   "source": [
    "Person(first_name=\"Issac\", last_name=\"Newton\")"
   ]
  },
  {
   "cell_type": "code",
   "execution_count": 28,
   "id": "d968a22c-88c1-440b-89f0-a6978ea0a7e0",
   "metadata": {},
   "outputs": [
    {
     "data": {
      "text/plain": [
       "Person(first_name='Issac', last_name='', age=None)"
      ]
     },
     "execution_count": 28,
     "metadata": {},
     "output_type": "execute_result"
    }
   ],
   "source": [
    "Person(first_name=\"Issac\")"
   ]
  },
  {
   "cell_type": "code",
   "execution_count": 33,
   "id": "59c923d2-0b23-454b-ab82-9bd3944abb5f",
   "metadata": {},
   "outputs": [],
   "source": [
    "from typing import Optional\n",
    "\n",
    "class Person(BaseModel):\n",
    "    first_name: str\n",
    "    last_name: Optional[str]\n",
    "    age: Optional[int] = None"
   ]
  },
  {
   "cell_type": "markdown",
   "id": "c1fbb861-157a-4611-b333-b82f0fc5069c",
   "metadata": {},
   "source": [
    "#### Serialization strategy\n",
    "\n",
    "**Note:** Convert `Person` pydantic class to a dictionary data type or `JSON` data type."
   ]
  },
  {
   "cell_type": "code",
   "execution_count": 34,
   "id": "f45b15c1-9832-4f4c-9f5a-c890c29efec7",
   "metadata": {},
   "outputs": [],
   "source": [
    "p = Person(first_name=\"Issac\", last_name=\"Newton\")"
   ]
  },
  {
   "cell_type": "code",
   "execution_count": 35,
   "id": "bf76e805-8e7c-460b-b9eb-c625c3e22435",
   "metadata": {},
   "outputs": [
    {
     "data": {
      "text/plain": [
       "{'first_name': 'Issac', 'last_name': 'Newton', 'age': None}"
      ]
     },
     "execution_count": 35,
     "metadata": {},
     "output_type": "execute_result"
    }
   ],
   "source": [
    "p.dict()"
   ]
  },
  {
   "cell_type": "code",
   "execution_count": 36,
   "id": "1dd5b3a5-ec77-4f72-a649-e75a44b13763",
   "metadata": {},
   "outputs": [
    {
     "data": {
      "text/plain": [
       "'{\"first_name\":\"Issac\",\"last_name\":\"Newton\",\"age\":null}'"
      ]
     },
     "execution_count": 36,
     "metadata": {},
     "output_type": "execute_result"
    }
   ],
   "source": [
    "p.json()"
   ]
  },
  {
   "cell_type": "code",
   "execution_count": 37,
   "id": "8428a37f-75bf-4ac3-8993-0d01569ae7c1",
   "metadata": {},
   "outputs": [
    {
     "data": {
      "text/plain": [
       "{'first_name': 'Issac', 'last_name': 'Newton'}"
      ]
     },
     "execution_count": 37,
     "metadata": {},
     "output_type": "execute_result"
    }
   ],
   "source": [
    "p.dict(exclude=['age'])"
   ]
  },
  {
   "cell_type": "code",
   "execution_count": 42,
   "id": "f28b2fa7-85c0-417c-bfc3-44efc6db7642",
   "metadata": {},
   "outputs": [
    {
     "name": "stdout",
     "output_type": "stream",
     "text": [
      "{\n",
      "    \"first_name\": \"Issac\",\n",
      "    \"last_name\": \"Newton\"\n",
      "}\n"
     ]
    }
   ],
   "source": [
    "print(p.model_dump_json(include=['first_name', 'last_name'], indent=4))"
   ]
  },
  {
   "cell_type": "markdown",
   "id": "fd24ae86-daad-40c7-903a-9454c25717fe",
   "metadata": {},
   "source": [
    "Earlier in `pydantic<v2`, we could easily pass indent to the arguments of `json` function now we cannot do that. However, we could use the function `model_dump_json`.\n",
    "\n",
    "When we pass `indent` in `json` function, we get the following error.\n",
    "\n",
    "```TypeError: `dumps_kwargs` keyword arguments are no longer supported.```"
   ]
  },
  {
   "cell_type": "markdown",
   "id": "85dc5a95-5564-4bc3-99c1-6f28ee946404",
   "metadata": {},
   "source": [
    "#### Deserialization strategy\n",
    "\n",
    "We could deserialize data in `Pydantic`. Here, the package simply tries to map the attributes to the closest data type."
   ]
  },
  {
   "cell_type": "code",
   "execution_count": 44,
   "id": "25468737-19e0-463d-9b13-c95a15da8274",
   "metadata": {},
   "outputs": [],
   "source": [
    "from datetime import date"
   ]
  },
  {
   "cell_type": "code",
   "execution_count": 45,
   "id": "f3502529-d860-4599-b540-67699ab30cc9",
   "metadata": {},
   "outputs": [],
   "source": [
    "class Person(BaseModel):\n",
    "    first_name: str\n",
    "    last_name: str\n",
    "    dob: date\n",
    "    bmi: float"
   ]
  },
  {
   "cell_type": "code",
   "execution_count": 51,
   "id": "31c3bb07-54de-4945-b286-659087a3ada9",
   "metadata": {},
   "outputs": [],
   "source": [
    "# dictionary with complex data-types\n",
    "data = {\n",
    "    \"first_name\":\"Issac\",\n",
    "    \"last_name\":\"Newton\", \n",
    "    \"dob\":date(1987,1,9),\n",
    "    \"bmi\":20.5\n",
    "}"
   ]
  },
  {
   "cell_type": "code",
   "execution_count": 52,
   "id": "caaef45e-d1ea-4267-bfc9-5a8af6e5a727",
   "metadata": {},
   "outputs": [],
   "source": [
    "p = Person.parse_obj(data)"
   ]
  },
  {
   "cell_type": "code",
   "execution_count": 53,
   "id": "b138fc22-b85f-41bb-812b-3124aec6efc2",
   "metadata": {},
   "outputs": [
    {
     "data": {
      "text/plain": [
       "Person(first_name='Issac', last_name='Newton', dob=datetime.date(1987, 1, 9), bmi=20.5)"
      ]
     },
     "execution_count": 53,
     "metadata": {},
     "output_type": "execute_result"
    }
   ],
   "source": [
    "p"
   ]
  },
  {
   "cell_type": "code",
   "execution_count": 54,
   "id": "3e95d678-ecdb-4272-8249-c5bed053cc5b",
   "metadata": {},
   "outputs": [],
   "source": [
    "data = {\n",
    "    \"first_name\":\"Issac\",\n",
    "    \"last_name\":\"Newton\", \n",
    "    \"dob\":date(1987,1,9),\n",
    "    \"bmi\":20\n",
    "}"
   ]
  },
  {
   "cell_type": "code",
   "execution_count": 55,
   "id": "0c90d538-1af4-4682-b7cd-81d573beac6b",
   "metadata": {},
   "outputs": [],
   "source": [
    "p = Person.parse_obj(data)"
   ]
  },
  {
   "cell_type": "code",
   "execution_count": 56,
   "id": "3340d4a6-eb45-466a-b58f-50777891b266",
   "metadata": {},
   "outputs": [
    {
     "data": {
      "text/plain": [
       "Person(first_name='Issac', last_name='Newton', dob=datetime.date(1987, 1, 9), bmi=20.0)"
      ]
     },
     "execution_count": 56,
     "metadata": {},
     "output_type": "execute_result"
    }
   ],
   "source": [
    "p"
   ]
  },
  {
   "cell_type": "code",
   "execution_count": 81,
   "id": "e1a1df24-ff7c-4ff6-8b5d-a01e3839a833",
   "metadata": {},
   "outputs": [],
   "source": [
    "data = {\n",
    "    \"first_name\":\"Issac\",\n",
    "    \"last_name\":\"Newton\", \n",
    "    \"dob\":\"1987-09-01\", # ISO date format yyyy-MM-dd \n",
    "    \"bmi\":20\n",
    "}"
   ]
  },
  {
   "cell_type": "code",
   "execution_count": 62,
   "id": "8a6f631c-73b4-4204-83fe-a83dc47d082a",
   "metadata": {},
   "outputs": [],
   "source": [
    "p = Person.parse_obj(data)"
   ]
  },
  {
   "cell_type": "code",
   "execution_count": 63,
   "id": "c524b86f-a5db-4c06-8e18-5635c3c4a542",
   "metadata": {},
   "outputs": [
    {
     "data": {
      "text/plain": [
       "Person(first_name='Issac', last_name='Newton', dob=datetime.date(1987, 9, 1), bmi=20.0)"
      ]
     },
     "execution_count": 63,
     "metadata": {},
     "output_type": "execute_result"
    }
   ],
   "source": [
    "p"
   ]
  },
  {
   "cell_type": "code",
   "execution_count": 66,
   "id": "4ea0143f-2265-47fe-838e-779ac8a79c82",
   "metadata": {},
   "outputs": [],
   "source": [
    "json = '''\n",
    "{\n",
    "    \"first_name\":\"Issac\",\n",
    "    \"last_name\":\"Newton\", \n",
    "    \"dob\":\"1987-09-01\",\n",
    "    \"bmi\":20\n",
    "}\n",
    "'''"
   ]
  },
  {
   "cell_type": "code",
   "execution_count": 67,
   "id": "3f70b83c-d008-42a6-bbdd-cafb5598ef8e",
   "metadata": {},
   "outputs": [],
   "source": [
    "p = Person.parse_raw(json)"
   ]
  },
  {
   "cell_type": "code",
   "execution_count": 68,
   "id": "45635e4e-b4b1-42b0-9f60-3150c517d70b",
   "metadata": {},
   "outputs": [
    {
     "data": {
      "text/plain": [
       "Person(first_name='Issac', last_name='Newton', dob=datetime.date(1987, 9, 1), bmi=20.0)"
      ]
     },
     "execution_count": 68,
     "metadata": {},
     "output_type": "execute_result"
    }
   ],
   "source": [
    "p"
   ]
  },
  {
   "cell_type": "markdown",
   "id": "47ad0995-8f96-4fa8-87df-daa11e430af0",
   "metadata": {},
   "source": [
    "In python, we use `snake-casing` but in JSON we use `camel-casing`. So, we use the `Field` module in `pydantic` that has `alias` attribute where we could allow this inter-operability."
   ]
  },
  {
   "cell_type": "code",
   "execution_count": 69,
   "id": "2d5f5e41-ee33-4219-b4d3-79f632dec5e6",
   "metadata": {},
   "outputs": [],
   "source": [
    "from pydantic import Field"
   ]
  },
  {
   "cell_type": "code",
   "execution_count": 82,
   "id": "05121d27-7fdd-4841-8c3a-4e6ddee28e40",
   "metadata": {},
   "outputs": [],
   "source": [
    "class Person(BaseModel):\n",
    "    first_name: str = Field(alias='firstName')\n",
    "    last_name: str = Field(alias='lastName')\n",
    "    dob: date = None\n",
    "    bmi: float = 0.0"
   ]
  },
  {
   "cell_type": "code",
   "execution_count": 83,
   "id": "dd13089b-b393-40d8-bc83-9cf838b5dd46",
   "metadata": {},
   "outputs": [
    {
     "data": {
      "text/plain": [
       "{'first_name': 'Issac', 'last_name': 'Newton', 'dob': '1987-09-01', 'bmi': 20}"
      ]
     },
     "execution_count": 83,
     "metadata": {},
     "output_type": "execute_result"
    }
   ],
   "source": [
    "data"
   ]
  },
  {
   "cell_type": "code",
   "execution_count": 84,
   "id": "db7fff98-0e76-483a-b794-d28232933b8f",
   "metadata": {},
   "outputs": [
    {
     "name": "stdout",
     "output_type": "stream",
     "text": [
      "[{\"type\":\"missing\",\"loc\":[\"firstName\"],\"msg\":\"Field required\",\"input\":{\"first_name\":\"Issac\",\"last_name\":\"Newton\",\"dob\":\"1987-09-01\",\"bmi\":20},\"url\":\"https://errors.pydantic.dev/2.8/v/missing\"},{\"type\":\"missing\",\"loc\":[\"lastName\"],\"msg\":\"Field required\",\"input\":{\"first_name\":\"Issac\",\"last_name\":\"Newton\",\"dob\":\"1987-09-01\",\"bmi\":20},\"url\":\"https://errors.pydantic.dev/2.8/v/missing\"}]\n"
     ]
    }
   ],
   "source": [
    "try:\n",
    "    Person.parse_obj(data)\n",
    "except ValidationError as ex:\n",
    "    print(ex.json())"
   ]
  },
  {
   "cell_type": "code",
   "execution_count": 85,
   "id": "7c267468-d324-4412-acdb-2ee3e7e1dfe4",
   "metadata": {},
   "outputs": [],
   "source": [
    "data = {\n",
    "    \"firstName\":\"Issac\",\n",
    "    \"lastName\":\"Newton\", \n",
    "    \"dob\":\"1987-09-01\", # ISO date format yyyy-MM-dd \n",
    "    \"bmi\":20\n",
    "}"
   ]
  },
  {
   "cell_type": "code",
   "execution_count": 86,
   "id": "de66de4e-f183-4bd4-ae39-0f7b9f316bd9",
   "metadata": {},
   "outputs": [],
   "source": [
    "try:\n",
    "    Person.parse_obj(data)\n",
    "except ValidationError as ex:\n",
    "    print(ex.json())"
   ]
  },
  {
   "cell_type": "code",
   "execution_count": 87,
   "id": "e6f1120a-6bfe-4839-b45d-121898506fc5",
   "metadata": {},
   "outputs": [
    {
     "data": {
      "text/plain": [
       "Person(first_name='Issac', last_name='Newton', dob=datetime.date(1987, 9, 1), bmi=20.0)"
      ]
     },
     "execution_count": 87,
     "metadata": {},
     "output_type": "execute_result"
    }
   ],
   "source": [
    "p = Person.parse_obj(data)\n",
    "p"
   ]
  },
  {
   "cell_type": "code",
   "execution_count": 88,
   "id": "862617e4-652f-4810-9ffa-dd2fa1d2407a",
   "metadata": {},
   "outputs": [
    {
     "data": {
      "text/plain": [
       "'{\"first_name\":\"Issac\",\"last_name\":\"Newton\",\"dob\":\"1987-09-01\",\"bmi\":20.0}'"
      ]
     },
     "execution_count": 88,
     "metadata": {},
     "output_type": "execute_result"
    }
   ],
   "source": [
    "p.json()"
   ]
  },
  {
   "cell_type": "markdown",
   "id": "3110bb3e-f955-4813-a4f6-d3843a04249a",
   "metadata": {},
   "source": [
    "Surprisingly enough, when we are converting the `JSON` or dictionary to `Pydantic` object, we need to use the`alias` argument in Field submodule. But when we serialize this object again, we get back the key names in snake-casing format, which is not the `alias` name but the `Field` name."
   ]
  },
  {
   "cell_type": "code",
   "execution_count": 89,
   "id": "102c0ecc-6797-4f0e-bede-a1ec4b512036",
   "metadata": {},
   "outputs": [
    {
     "data": {
      "text/plain": [
       "{'first_name': 'Issac',\n",
       " 'last_name': 'Newton',\n",
       " 'dob': datetime.date(1987, 9, 1),\n",
       " 'bmi': 20.0}"
      ]
     },
     "execution_count": 89,
     "metadata": {},
     "output_type": "execute_result"
    }
   ],
   "source": [
    "p.dict()"
   ]
  },
  {
   "cell_type": "markdown",
   "id": "06c9e97d-543c-4249-900d-68484ab92b0e",
   "metadata": {},
   "source": [
    "Now, the problem with the above approach is tht we could only use `alias` name to create the `Pydantic` object. But if we want to intercha nbly use both `alias` name and `field name` to  create the object."
   ]
  },
  {
   "cell_type": "code",
   "execution_count": 105,
   "id": "41a0c785-d8c7-4f49-95fa-50e747756f15",
   "metadata": {},
   "outputs": [],
   "source": [
    "from pydantic import ConfigDict\n",
    "\n",
    "class Person(BaseModel):\n",
    "    first_name: str = Field(alias='firstName')\n",
    "    last_name: str = Field(alias='lastName')\n",
    "    dob: date = None\n",
    "    bmi: float = 0.0\n",
    "\n",
    "    model_config = ConfigDict(\n",
    "        populate_by_name=True,\n",
    "    )"
   ]
  },
  {
   "cell_type": "code",
   "execution_count": 106,
   "id": "390f224b-f65f-4a51-b968-b013231aa030",
   "metadata": {},
   "outputs": [],
   "source": [
    "data = {\n",
    "    \"first_name\":\"Issac\",\n",
    "    \"last_name\":\"Newton\", \n",
    "    \"dob\":\"1987-09-01\", \n",
    "    \"bmi\":20\n",
    "}"
   ]
  },
  {
   "cell_type": "code",
   "execution_count": 107,
   "id": "732db70b-5b90-47f2-af42-ad124fe8df53",
   "metadata": {},
   "outputs": [
    {
     "data": {
      "text/plain": [
       "Person(first_name='Issac', last_name='Newton', dob=datetime.date(1987, 9, 1), bmi=20.0)"
      ]
     },
     "execution_count": 107,
     "metadata": {},
     "output_type": "execute_result"
    }
   ],
   "source": [
    "Person.parse_obj(data)"
   ]
  },
  {
   "cell_type": "code",
   "execution_count": 108,
   "id": "7d444d93-1ba3-4db9-9e89-a816e17267a8",
   "metadata": {},
   "outputs": [],
   "source": [
    "p = Person.parse_obj(data)"
   ]
  },
  {
   "cell_type": "code",
   "execution_count": 109,
   "id": "b250c312-1d0e-4dc7-a999-142eafbab13d",
   "metadata": {},
   "outputs": [
    {
     "data": {
      "text/plain": [
       "'{\"first_name\":\"Issac\",\"last_name\":\"Newton\",\"dob\":\"1987-09-01\",\"bmi\":20.0}'"
      ]
     },
     "execution_count": 109,
     "metadata": {},
     "output_type": "execute_result"
    }
   ],
   "source": [
    "p.json()"
   ]
  },
  {
   "cell_type": "code",
   "execution_count": 110,
   "id": "cd397cbb-72d8-4fdc-96b1-cd6de8645fda",
   "metadata": {},
   "outputs": [
    {
     "data": {
      "text/plain": [
       "{'first_name': 'Issac',\n",
       " 'last_name': 'Newton',\n",
       " 'dob': datetime.date(1987, 9, 1),\n",
       " 'bmi': 20.0}"
      ]
     },
     "execution_count": 110,
     "metadata": {},
     "output_type": "execute_result"
    }
   ],
   "source": [
    "p.dict()"
   ]
  },
  {
   "cell_type": "code",
   "execution_count": 111,
   "id": "021187db-d6be-441b-8496-ca0b0ea1f139",
   "metadata": {},
   "outputs": [
    {
     "data": {
      "text/plain": [
       "{'firstName': 'Issac',\n",
       " 'lastName': 'Newton',\n",
       " 'dob': datetime.date(1987, 9, 1),\n",
       " 'bmi': 20.0}"
      ]
     },
     "execution_count": 111,
     "metadata": {},
     "output_type": "execute_result"
    }
   ],
   "source": [
    "p.dict(by_alias=True)"
   ]
  },
  {
   "cell_type": "code",
   "execution_count": 112,
   "id": "a0cec4ff-8402-47c1-b3eb-6e65ae9531ab",
   "metadata": {},
   "outputs": [
    {
     "data": {
      "text/plain": [
       "'{\"firstName\":\"Issac\",\"lastName\":\"Newton\",\"dob\":\"1987-09-01\",\"bmi\":20.0}'"
      ]
     },
     "execution_count": 112,
     "metadata": {},
     "output_type": "execute_result"
    }
   ],
   "source": [
    "p.json(by_alias=True)"
   ]
  },
  {
   "cell_type": "markdown",
   "id": "f770f164-53e2-4956-98d2-c3891b713f6f",
   "metadata": {},
   "source": [
    "#### Including extra fields"
   ]
  },
  {
   "cell_type": "code",
   "execution_count": 114,
   "id": "5e74eb94-bbc6-4ee5-bcaf-be251d1afd5f",
   "metadata": {},
   "outputs": [],
   "source": [
    "data_extra = {\n",
    "    \"first_name\":\"Issac\",\n",
    "    \"last_name\":\"Newton\", \n",
    "    \"dob\":\"1987-09-01\", \n",
    "    \"bmi\":20,\n",
    "    \"extra\": \"This has extra information.\"\n",
    "}    "
   ]
  },
  {
   "cell_type": "code",
   "execution_count": 115,
   "id": "e1e1da5e-10f7-4109-b781-6ac830a23b8b",
   "metadata": {},
   "outputs": [],
   "source": [
    "p = Person.parse_obj(data_extra)"
   ]
  },
  {
   "cell_type": "code",
   "execution_count": 116,
   "id": "23496a46-65e6-4b9d-9795-1c588f880d6f",
   "metadata": {},
   "outputs": [
    {
     "data": {
      "text/plain": [
       "Person(first_name='Issac', last_name='Newton', dob=datetime.date(1987, 9, 1), bmi=20.0)"
      ]
     },
     "execution_count": 116,
     "metadata": {},
     "output_type": "execute_result"
    }
   ],
   "source": [
    "p"
   ]
  },
  {
   "cell_type": "markdown",
   "id": "fb77d706-f2e6-47b3-a8df-0f5fd0faf726",
   "metadata": {},
   "source": [
    "The default behaviour is to just ignore the extra field. But there are three possibilities of handling extra fields ->\n",
    "\n",
    "- Ignore the field\n",
    "- Add the field\n",
    "- Raise an error"
   ]
  },
  {
   "cell_type": "code",
   "execution_count": 119,
   "id": "df5749e1-12c0-45f7-9b32-e5f249f42dd8",
   "metadata": {},
   "outputs": [],
   "source": [
    "from pydantic import Extra"
   ]
  },
  {
   "cell_type": "code",
   "execution_count": 122,
   "id": "0003956f-4ee4-47d5-98f1-771f51f7ed48",
   "metadata": {},
   "outputs": [],
   "source": [
    "class Person(BaseModel, extra='allow'):\n",
    "    first_name: str = Field(alias='firstName')\n",
    "    last_name: str = Field(alias='lastName')\n",
    "    dob: date = None\n",
    "    bmi: float = 0.0\n",
    "\n",
    "    model_config = ConfigDict(\n",
    "        populate_by_name=True,\n",
    "    )"
   ]
  },
  {
   "cell_type": "code",
   "execution_count": 123,
   "id": "6aa2a5b0-f84c-4fc9-a7b8-8bf5afd2e83c",
   "metadata": {},
   "outputs": [],
   "source": [
    "p = Person.parse_obj(data_extra)"
   ]
  },
  {
   "cell_type": "code",
   "execution_count": 124,
   "id": "8658b92d-666c-44f4-90b6-2f4e220629ac",
   "metadata": {},
   "outputs": [
    {
     "data": {
      "text/plain": [
       "Person(first_name='Issac', last_name='Newton', dob=datetime.date(1987, 9, 1), bmi=20.0, extra='This has extra information.')"
      ]
     },
     "execution_count": 124,
     "metadata": {},
     "output_type": "execute_result"
    }
   ],
   "source": [
    "p"
   ]
  },
  {
   "cell_type": "code",
   "execution_count": 125,
   "id": "d89838cd-b1e0-47e5-b4b6-540c0d7deadc",
   "metadata": {},
   "outputs": [
    {
     "data": {
      "text/plain": [
       "{'first_name': 'Issac',\n",
       " 'last_name': 'Newton',\n",
       " 'dob': datetime.date(1987, 9, 1),\n",
       " 'bmi': 20.0,\n",
       " 'extra': 'This has extra information.'}"
      ]
     },
     "execution_count": 125,
     "metadata": {},
     "output_type": "execute_result"
    }
   ],
   "source": [
    "p.dict()"
   ]
  },
  {
   "cell_type": "code",
   "execution_count": 127,
   "id": "1d9e60c0-6c64-4fb9-9f32-16f919c137e0",
   "metadata": {},
   "outputs": [
    {
     "name": "stdout",
     "output_type": "stream",
     "text": [
      "{\"first_name\":\"Issac\",\"last_name\":\"Newton\",\"dob\":\"1987-09-01\",\"bmi\":20.0,\"extra\":\"This has extra information.\"}\n"
     ]
    }
   ],
   "source": [
    "print(p.json())"
   ]
  },
  {
   "cell_type": "code",
   "execution_count": 130,
   "id": "c98f8927-24f0-4895-9ae2-7cc10fc239e7",
   "metadata": {},
   "outputs": [],
   "source": [
    "class Person(BaseModel, extra='forbid'):\n",
    "    first_name: str = Field(alias='firstName')\n",
    "    last_name: str = Field(alias='lastName')\n",
    "    dob: date = None\n",
    "    bmi: float = 0.0\n",
    "\n",
    "    model_config = ConfigDict(\n",
    "        populate_by_name=True,\n",
    "    )"
   ]
  },
  {
   "cell_type": "code",
   "execution_count": 132,
   "id": "2ab9bfcf-c0f8-4f8e-8366-648c8797fbcb",
   "metadata": {},
   "outputs": [
    {
     "name": "stdout",
     "output_type": "stream",
     "text": [
      "1 validation error for Person\n",
      "extra\n",
      "  Extra inputs are not permitted [type=extra_forbidden, input_value='This has extra information.', input_type=str]\n",
      "    For further information visit https://errors.pydantic.dev/2.8/v/extra_forbidden\n"
     ]
    }
   ],
   "source": [
    "try:\n",
    "    p = Person.parse_obj(data_extra)\n",
    "except Exception as ex:\n",
    "    print(ex)"
   ]
  },
  {
   "cell_type": "markdown",
   "id": "3d80c6b4-7263-4cf7-8379-20f9953e86e8",
   "metadata": {},
   "source": [
    "What of we would want to snake casing for a huge number of fields a once? we would create a fucntion and then we would basically use that"
   ]
  },
  {
   "cell_type": "code",
   "execution_count": 133,
   "id": "f02f97fd-e40e-48f7-8d98-585a7f5e69a9",
   "metadata": {},
   "outputs": [],
   "source": [
    "def snake_to_camel_case(value: str) -> str:\n",
    "    if not isinstance(value, str):\n",
    "        raise ValueError(\"Value must be a string\")\n",
    "    words = value.split(\"_\")\n",
    "    value = \"\".join(word.title() for word in words)\n",
    "    return f\"{value[0].lower()}{value[1:]}\""
   ]
  },
  {
   "cell_type": "code",
   "execution_count": 136,
   "id": "cff5de01-0314-4c37-8259-2a52b3426504",
   "metadata": {},
   "outputs": [],
   "source": [
    "class Person(BaseModel):\n",
    "    first_name: str = None\n",
    "    last_name: str\n",
    "    dob: date = None\n",
    "    bmi: float = 0.0\n",
    "\n",
    "    model_config = ConfigDict(\n",
    "        populate_by_name=True,\n",
    "        alias_generator=snake_to_camel_case,\n",
    "    )"
   ]
  },
  {
   "cell_type": "code",
   "execution_count": 139,
   "id": "038024d6-1f53-45c8-a72b-7598f64a8e9f",
   "metadata": {},
   "outputs": [],
   "source": [
    "p = Person(firstName=\"Issac\", lastName=\"Newton\")"
   ]
  },
  {
   "cell_type": "code",
   "execution_count": 140,
   "id": "347ba874-be14-4637-b370-a1b37926033b",
   "metadata": {},
   "outputs": [
    {
     "data": {
      "text/plain": [
       "Person(first_name='Issac', last_name='Newton', dob=None, bmi=0.0)"
      ]
     },
     "execution_count": 140,
     "metadata": {},
     "output_type": "execute_result"
    }
   ],
   "source": [
    "p"
   ]
  },
  {
   "cell_type": "markdown",
   "id": "28999834-050f-4439-8751-509bb92df4c6",
   "metadata": {},
   "source": [
    "#### Field Constraints"
   ]
  },
  {
   "cell_type": "code",
   "execution_count": 142,
   "id": "2ca6607d-4332-4bb3-adb3-33d74862a4d0",
   "metadata": {},
   "outputs": [],
   "source": [
    "from pydantic import conint\n",
    "\n",
    "class Real_Person(Person):\n",
    "    age: conint(gt=0, le=150)"
   ]
  },
  {
   "cell_type": "code",
   "execution_count": 145,
   "id": "9ab6fd36-7653-4670-8cc6-34a164e155b7",
   "metadata": {},
   "outputs": [
    {
     "data": {
      "text/plain": [
       "Real_Person(first_name='Polpot', last_name='Verde', dob=None, bmi=0.0, age=10)"
      ]
     },
     "execution_count": 145,
     "metadata": {},
     "output_type": "execute_result"
    }
   ],
   "source": [
    "Real_Person(first_name=\"Polpot\", last_name=\"Verde\", age=10)"
   ]
  },
  {
   "cell_type": "code",
   "execution_count": 169,
   "id": "28784739-6c1d-4fb5-9254-66b0ab307b8b",
   "metadata": {},
   "outputs": [],
   "source": [
    "from pydantic import constr\n",
    "\n",
    "class Real_Person(Person):\n",
    "    first_name: str = None\n",
    "    last_name: constr(strip_whitespace=True, strict=True, min_length=2, max_length=30, pattern=r'[A-Z][a-z]+')"
   ]
  },
  {
   "cell_type": "code",
   "execution_count": 170,
   "id": "46dfbea4-176f-4212-9813-9c83a6a4c4be",
   "metadata": {},
   "outputs": [
    {
     "data": {
      "text/plain": [
       "Person(first_name='100', last_name='    Newton   ', dob=None, bmi=0.0)"
      ]
     },
     "execution_count": 170,
     "metadata": {},
     "output_type": "execute_result"
    }
   ],
   "source": [
    "Person(first_name=\"100\", last_name=\"    Newton   \", age=10)"
   ]
  },
  {
   "cell_type": "code",
   "execution_count": 171,
   "id": "f95d9b0c-7793-4bcc-934a-5a0eef3d26a5",
   "metadata": {},
   "outputs": [
    {
     "data": {
      "text/plain": [
       "Real_Person(first_name='100', last_name='Newton', dob=None, bmi=0.0)"
      ]
     },
     "execution_count": 171,
     "metadata": {},
     "output_type": "execute_result"
    }
   ],
   "source": [
    "Real_Person(first_name=\"100\", last_name=\"    Newton    \", age=10)"
   ]
  },
  {
   "cell_type": "code",
   "execution_count": 173,
   "id": "b6b1e473-736b-42f8-9854-1bed081a945f",
   "metadata": {},
   "outputs": [
    {
     "name": "stdout",
     "output_type": "stream",
     "text": [
      "1 validation error for Real_Person\n",
      "last_name\n",
      "  String should match pattern '[A-Z][a-z]+' [type=string_pattern_mismatch, input_value='200', input_type=str]\n",
      "    For further information visit https://errors.pydantic.dev/2.8/v/string_pattern_mismatch\n"
     ]
    }
   ],
   "source": [
    "try:\n",
    "    Real_Person(first_name=\"100\", last_name=\"200\", age=10)\n",
    "except ValidationError as ex:\n",
    "    print(ex)"
   ]
  },
  {
   "cell_type": "markdown",
   "id": "a6ffa43e-7042-467d-969d-7251164f9794",
   "metadata": {},
   "source": [
    "#### Custom Validators"
   ]
  },
  {
   "cell_type": "code",
   "execution_count": 177,
   "id": "e212dc65-1d49-44b4-81ef-964a379c5ab9",
   "metadata": {},
   "outputs": [],
   "source": [
    "from pydantic import field_validator"
   ]
  },
  {
   "cell_type": "code",
   "execution_count": 188,
   "id": "686f273c-7741-4456-a42f-356e3fe133d3",
   "metadata": {},
   "outputs": [],
   "source": [
    "class Real_Person(Person):\n",
    "    hash_tag: str\n",
    "\n",
    "    @field_validator('hash_tag')\n",
    "    def validate_hash_tag(cls, value):\n",
    "        if not value.startswith(\"#\"):\n",
    "            raise ValueError(\"Hash tag must start with a #\")\n",
    "        return value"
   ]
  },
  {
   "cell_type": "code",
   "execution_count": 189,
   "id": "395e50f8-f976-4855-bf92-b4bf7eeba861",
   "metadata": {},
   "outputs": [
    {
     "data": {
      "text/plain": [
       "Real_Person(first_name='Issac', last_name='Newton', dob=None, bmi=0.0, hash_tag='#phycist')"
      ]
     },
     "execution_count": 189,
     "metadata": {},
     "output_type": "execute_result"
    }
   ],
   "source": [
    "Real_Person(hash_tag=\"#phycist\", first_name=\"Issac\", last_name=\"Newton\")"
   ]
  },
  {
   "cell_type": "code",
   "execution_count": 192,
   "id": "a75c8924-e2af-4590-bff9-60e4a19a91b7",
   "metadata": {},
   "outputs": [],
   "source": [
    "class Real_Person(Person):\n",
    "    hash_tag: constr(min_length=5, strip_whitespace=True)\n",
    "\n",
    "    @field_validator('hash_tag')\n",
    "    def validate_hash_tag(cls, value):\n",
    "        if not value.startswith(\"#\"):\n",
    "            return f\"#{value.lower()}\"\n",
    "        return value.lower()"
   ]
  },
  {
   "cell_type": "markdown",
   "id": "2e9bc276-4036-4843-9365-99a742192967",
   "metadata": {},
   "source": [
    "We can actually set constraints as well as validation rules for the `Pydantic` class."
   ]
  },
  {
   "cell_type": "code",
   "execution_count": 193,
   "id": "aeb9a124-eb63-468c-a90f-7ee5060c798c",
   "metadata": {},
   "outputs": [
    {
     "data": {
      "text/plain": [
       "Real_Person(first_name='Issac', last_name='Newton', dob=None, bmi=0.0, hash_tag='#phycist')"
      ]
     },
     "execution_count": 193,
     "metadata": {},
     "output_type": "execute_result"
    }
   ],
   "source": [
    "Real_Person(hash_tag=\"#phycist\", first_name=\"Issac\", last_name=\"Newton\")"
   ]
  },
  {
   "cell_type": "code",
   "execution_count": 194,
   "id": "a200b79e-4b6b-4f00-85ac-b8d91920a8d5",
   "metadata": {},
   "outputs": [
    {
     "data": {
      "text/plain": [
       "Real_Person(first_name='Issac', last_name='Newton', dob=None, bmi=0.0, hash_tag='#phycist')"
      ]
     },
     "execution_count": 194,
     "metadata": {},
     "output_type": "execute_result"
    }
   ],
   "source": [
    "Real_Person(hash_tag=\"phycist\", first_name=\"Issac\", last_name=\"Newton\")"
   ]
  },
  {
   "cell_type": "code",
   "execution_count": 195,
   "id": "4e6b26ec-11c2-4cbf-9b30-b7f0fc69cdb0",
   "metadata": {},
   "outputs": [],
   "source": [
    "from enum import Enum\n",
    "from typing import List, Tuple, Union"
   ]
  },
  {
   "cell_type": "code",
   "execution_count": 196,
   "id": "5de67bd1-a4be-4df2-af67-b524411c05a1",
   "metadata": {},
   "outputs": [],
   "source": [
    "class PolygonType(Enum):\n",
    "    trigon = 3\n",
    "    tetragon = 4\n",
    "    pentagon = 5\n",
    "    hexagon = 6"
   ]
  },
  {
   "cell_type": "code",
   "execution_count": 197,
   "id": "8c921d96-d9b3-44a3-9c4f-74ca10f6189e",
   "metadata": {},
   "outputs": [],
   "source": [
    "class CustomBaseModel(BaseModel):\n",
    "\n",
    "    model_config = ConfigDict(\n",
    "        populate_by_name=True,\n",
    "        alias_generator=snake_to_camel_case,\n",
    "    )"
   ]
  },
  {
   "cell_type": "markdown",
   "id": "72f81cd6-7def-4800-9c9a-73bfb57b79e8",
   "metadata": {},
   "source": [
    "When we have multiple variables and validation has to be applied on one variable but it depends on another variable for it's validation then we have to use values."
   ]
  },
  {
   "cell_type": "code",
   "execution_count": 206,
   "id": "f2d64fd3-e775-4fcc-a9af-730d2a37c626",
   "metadata": {},
   "outputs": [],
   "source": [
    "from pydantic import ValidationInfo\n",
    "\n",
    "class PolygonModel(CustomBaseModel):\n",
    "    polygon_type: PolygonType\n",
    "    vertices: List[Tuple[Union[int,float], Union[int,float]]]\n",
    "\n",
    "    @field_validator('vertices')\n",
    "    def validate_vertices(cls, value, values: ValidationInfo):\n",
    "        polygon_type = values.data['polygon_type']\n",
    "        if polygon_type:\n",
    "            num_vertices_required = polygon_type.value\n",
    "            if len(value) != num_vertices_required:\n",
    "                raise ValueError(\n",
    "                    f\"For a {polygon_type.name}, we exactly need {polygon_type.value} vertices.\"\n",
    "                )\n",
    "        return value"
   ]
  },
  {
   "cell_type": "code",
   "execution_count": 207,
   "id": "b707643d-6909-4028-bc1e-a6bb43b50479",
   "metadata": {},
   "outputs": [
    {
     "data": {
      "text/plain": [
       "PolygonModel(polygon_type=<PolygonType.trigon: 3>, vertices=[(1, 1), (2, 2), (3, 3)])"
      ]
     },
     "execution_count": 207,
     "metadata": {},
     "output_type": "execute_result"
    }
   ],
   "source": [
    "PolygonModel(polygon_type=PolygonType.trigon, vertices=[(1,1), (2,2), (3,3)])"
   ]
  },
  {
   "cell_type": "code",
   "execution_count": 209,
   "id": "b4387b29-6610-4d73-abe9-4c13a9956244",
   "metadata": {},
   "outputs": [
    {
     "name": "stdout",
     "output_type": "stream",
     "text": [
      "1 validation error for PolygonModel\n",
      "vertices\n",
      "  Value error, For a trigon, we exactly need 3 vertices. [type=value_error, input_value=[(1, 1), (2, 2), (3, 3), (4, 4)], input_type=list]\n",
      "    For further information visit https://errors.pydantic.dev/2.8/v/value_error\n"
     ]
    }
   ],
   "source": [
    "try:\n",
    "    PolygonModel(polygon_type=PolygonType.trigon, vertices=[(1,1), (2,2), (3,3), (4,4)])\n",
    "except ValidationError as ex:\n",
    "    print(ex)"
   ]
  },
  {
   "cell_type": "code",
   "execution_count": 210,
   "id": "c046d876-28a3-4a59-8450-c851d9f80566",
   "metadata": {},
   "outputs": [
    {
     "name": "stdout",
     "output_type": "stream",
     "text": [
      "2 validation errors for PolygonModel\n",
      "vertices.1.1.int\n",
      "  Input should be a valid integer [type=int_type, input_value=(2+2j), input_type=complex]\n",
      "    For further information visit https://errors.pydantic.dev/2.8/v/int_type\n",
      "vertices.1.1.float\n",
      "  Input should be a valid number [type=float_type, input_value=(2+2j), input_type=complex]\n",
      "    For further information visit https://errors.pydantic.dev/2.8/v/float_type\n"
     ]
    }
   ],
   "source": [
    "try:\n",
    "    PolygonModel(polygon_type=PolygonType.trigon, vertices=[(1,1), (2,2+2j), (3,3), (4,4)])\n",
    "except ValidationError as ex:\n",
    "    print(ex)"
   ]
  },
  {
   "cell_type": "markdown",
   "id": "76f1b951-125a-430a-bef9-0766123c4b0f",
   "metadata": {},
   "source": [
    "#### Nested Models\n",
    "\n",
    "Here we will start with the smaller constructs. And then move to the composite constructs."
   ]
  },
  {
   "cell_type": "code",
   "execution_count": 242,
   "id": "93d320da-bb4f-48c4-b952-c8c5ff872c5d",
   "metadata": {},
   "outputs": [],
   "source": [
    "# author construct\n",
    "class Author(CustomBaseModel):\n",
    "    first_name: constr(min_length=1, max_length=20, strip_whitespace=True)\n",
    "    last_name: constr(min_length=1, max_length=20, strip_whitespace=True)\n",
    "    display_name: Optional[str] =  Field(min_length=1, max_length=50, default = None, validate_default=True)\n",
    "\n",
    "    # always = True forces the validator to run, even if display_name is None, this\n",
    "    # is how we can set a dynamic default value\n",
    "    @field_validator(\"display_name\")  \n",
    "    def validate_display_name(cls, value, values):\n",
    "        # validator runs, even if previous fields did not validate properly - so \n",
    "        # we will need to run our code only if prior fields validated OK.\n",
    "        if not value and 'first_name' in values.data.keys() and 'last_name' in values.data.keys():\n",
    "            first_name = values.data.get('first_name')\n",
    "            last_name = values.data.get('last_name')\n",
    "            return f\"{first_name} {(last_name[0]).upper()}\"\n",
    "        return value"
   ]
  },
  {
   "cell_type": "code",
   "execution_count": 243,
   "id": "87eef8e9-cd75-4a69-ad7c-f6d33025dec3",
   "metadata": {},
   "outputs": [],
   "source": [
    "# link construct\n",
    "from pydantic import AnyHttpUrl\n",
    "\n",
    "class Link(CustomBaseModel):\n",
    "    name: constr(min_length=5, max_length=25)\n",
    "    url: AnyHttpUrl"
   ]
  },
  {
   "cell_type": "code",
   "execution_count": 244,
   "id": "65424540-f552-4a94-9b76-6297101ffe46",
   "metadata": {},
   "outputs": [
    {
     "data": {
      "text/plain": [
       "Author(first_name='Gottfried', last_name='Leibniz', display_name='Gottfried L')"
      ]
     },
     "execution_count": 244,
     "metadata": {},
     "output_type": "execute_result"
    }
   ],
   "source": [
    "Author(first_name=\"Gottfried\", last_name=\"Leibniz\")"
   ]
  },
  {
   "cell_type": "code",
   "execution_count": 245,
   "id": "657b2e9d-8bec-45fe-a0f4-56e8b68f8112",
   "metadata": {},
   "outputs": [
    {
     "data": {
      "text/plain": [
       "Link(name='Original Book', url=Url('https://archive.org/details/in.ernet.dli.2015.215284'))"
      ]
     },
     "execution_count": 245,
     "metadata": {},
     "output_type": "execute_result"
    }
   ],
   "source": [
    "Link(name=\"Original Book\", url=\"https://archive.org/details/in.ernet.dli.2015.215284\")"
   ]
  },
  {
   "cell_type": "markdown",
   "id": "0515271e-d2c3-4375-a327-cc73b91dc0f1",
   "metadata": {},
   "source": [
    "Now we will make the Post, composite field."
   ]
  },
  {
   "cell_type": "code",
   "execution_count": 247,
   "id": "dd914490-7c3b-4ca7-8912-45c3ee6468d7",
   "metadata": {},
   "outputs": [],
   "source": [
    "from pydantic import conlist"
   ]
  },
  {
   "cell_type": "code",
   "execution_count": 256,
   "id": "e4f8f376-2a3a-40bd-9ef9-e8d2c78cd2c4",
   "metadata": {},
   "outputs": [],
   "source": [
    "class Post(BaseModel):\n",
    "    byline: conlist(item_type=Author, min_length=1)\n",
    "    title: constr(min_length=10, max_length=50, strip_whitespace=True)\n",
    "    sub_title: constr(min_length=20, max_length=100, strip_whitespace=True) = None\n",
    "    body: constr(min_length=100)\n",
    "    links: List[Link] = []\n",
    "\n",
    "    @validator('title')\n",
    "    def validate_title(cls, value):\n",
    "        return value and value.title()"
   ]
  },
  {
   "cell_type": "code",
   "execution_count": 264,
   "id": "731615ff-3242-4a90-9a96-c65c5974e261",
   "metadata": {},
   "outputs": [
    {
     "data": {
      "text/plain": [
       "Post(byline=[Author(first_name='John', last_name='von Neumann', display_name='Johnny V'), Author(first_name='Oskar', last_name='Morgenstern', display_name='Oskar M')], title='Theory of Games and Economic Behavior', sub_title='A non-mathematical overview', body='Lorem ipsum sit dolor amet.Lorem ipsum sit dolor amet.Lorem ipsum sit dolor amet.Lorem ipsum sit dolor amet.Lorem ipsum sit dolor amet.Lorem ipsum sit dolor amet.Lorem ipsum sit dolor amet.Lorem ipsum sit dolor amet.Lorem ipsum sit dolor amet.Lorem ipsum sit dolor amet.Lorem ipsum sit dolor amet.Lorem ipsum sit dolor amet.Lorem ipsum sit dolor amet.Lorem ipsum sit dolor amet.Lorem ipsum sit dolor amet.Lorem ipsum sit dolor amet.Lorem ipsum sit dolor amet.Lorem ipsum sit dolor amet.Lorem ipsum sit dolor amet.Lorem ipsum sit dolor amet.', links=[Link(name='Original Book', url=Url('https://archive.org/details/in.ernet.dli.2015.215284')), Link(name='Review', url=Url('https://www.ams.org/journals/bull/1945-51-07/S0002-9904-1945-08391-8/S0002-9904-1945-08391-8.pdf'))])"
      ]
     },
     "execution_count": 264,
     "metadata": {},
     "output_type": "execute_result"
    }
   ],
   "source": [
    "class Post(BaseModel):\n",
    "    byline: conlist(item_type=Author, min_length=1)\n",
    "    title: constr(min_length=10, max_length=50, strip_whitespace=True)\n",
    "    sub_title: constr(min_length=20, max_length=100, strip_whitespace=True) = None\n",
    "    body: constr(min_length=100)\n",
    "    links: List[Link] = []\n",
    "\n",
    "    @validator('title')\n",
    "    def validate_title(cls, value):\n",
    "        return value and value.title()\n",
    "\n",
    "Post(byline=[\n",
    "        Author(first_name=\"John\", last_name=\"von Neumann\", display_name=\"Johnny V\"),\n",
    "        Author(first_name=\"Oskar\", last_name=\"Morgenstern\")],\n",
    "     title=\"Theory of Games and Economic Behavior\",\n",
    "     sub_title=\"A non-mathematical overview\",\n",
    "    body=\"Lorem ipsum sit dolor amet.\" * 20,\n",
    "    links=[\n",
    "        Link(name=\"Original Book\", url=\"https://archive.org/details/in.ernet.dli.2015.215284\"),\n",
    "        Link(name=\"Review\", url = \"https://www.ams.org/journals/bull/1945-51-07/S0002-9904-1945-08391-8/S0002-9904-1945-08391-8.pdf\")\n",
    "    ])"
   ]
  },
  {
   "cell_type": "code",
   "execution_count": 270,
   "id": "0d749ccc-8938-4275-8845-5cf5a2f38ea0",
   "metadata": {},
   "outputs": [
    {
     "name": "stdout",
     "output_type": "stream",
     "text": [
      "{\n",
      "  \"byline\": [\n",
      "    {\n",
      "      \"first_name\": \"John\",\n",
      "      \"last_name\": \"von Neumann\",\n",
      "      \"display_name\": \"Johnny V\"\n",
      "    },\n",
      "    {\n",
      "      \"first_name\": \"Oskar\",\n",
      "      \"last_name\": \"Morgenstern\",\n",
      "      \"display_name\": \"Oskar M\"\n",
      "    }\n",
      "  ],\n",
      "  \"title\": \"Theory of Games and Economic Behavior\",\n",
      "  \"sub_title\": \"A non-mathematical overview\",\n",
      "  \"body\": \"Lorem ipsum sit dolor amet.Lorem ipsum sit dolor amet.Lorem ipsum sit dolor amet.Lorem ipsum sit dolor amet.Lorem ipsum sit dolor amet.Lorem ipsum sit dolor amet.Lorem ipsum sit dolor amet.Lorem ipsum sit dolor amet.Lorem ipsum sit dolor amet.Lorem ipsum sit dolor amet.Lorem ipsum sit dolor amet.Lorem ipsum sit dolor amet.Lorem ipsum sit dolor amet.Lorem ipsum sit dolor amet.Lorem ipsum sit dolor amet.Lorem ipsum sit dolor amet.Lorem ipsum sit dolor amet.Lorem ipsum sit dolor amet.Lorem ipsum sit dolor amet.Lorem ipsum sit dolor amet.\",\n",
      "  \"links\": [\n",
      "    {\n",
      "      \"name\": \"Original Book\",\n",
      "      \"url\": \"https://archive.org/details/in.ernet.dli.2015.215284\"\n",
      "    },\n",
      "    {\n",
      "      \"name\": \"Review\",\n",
      "      \"url\": \"https://www.ams.org/journals/bull/1945-51-07/S0002-9904-1945-08391-8/S0002-9904-1945-08391-8.pdf\"\n",
      "    }\n",
      "  ]\n",
      "}\n"
     ]
    }
   ],
   "source": [
    "p = Post(byline=[\n",
    "        Author(first_name=\"John\", last_name=\"von Neumann\", display_name=\"Johnny V\"),\n",
    "        Author(first_name=\"Oskar\", last_name=\"Morgenstern\")],\n",
    "     title=\"Theory of Games and Economic Behavior\",\n",
    "     sub_title=\"A non-mathematical overview\",\n",
    "    body=\"Lorem ipsum sit dolor amet.\" * 20,\n",
    "    links=[\n",
    "        Link(name=\"Original Book\", url=\"https://archive.org/details/in.ernet.dli.2015.215284\"),\n",
    "        Link(name=\"Review\", url = \"https://www.ams.org/journals/bull/1945-51-07/S0002-9904-1945-08391-8/S0002-9904-1945-08391-8.pdf\")\n",
    "    ])\n",
    "\n",
    "print(p.model_dump_json(indent=2))"
   ]
  },
  {
   "cell_type": "code",
   "execution_count": null,
   "id": "0ee7cc25-fa77-4c0c-9b6d-9572d62f4ec0",
   "metadata": {},
   "outputs": [],
   "source": [
    "print(Post.schema_json(i"
   ]
  }
 ],
 "metadata": {
  "kernelspec": {
   "display_name": "Python 3 (ipykernel)",
   "language": "python",
   "name": "python3"
  },
  "language_info": {
   "codemirror_mode": {
    "name": "ipython",
    "version": 3
   },
   "file_extension": ".py",
   "mimetype": "text/x-python",
   "name": "python",
   "nbconvert_exporter": "python",
   "pygments_lexer": "ipython3",
   "version": "3.12.4"
  }
 },
 "nbformat": 4,
 "nbformat_minor": 5
}
